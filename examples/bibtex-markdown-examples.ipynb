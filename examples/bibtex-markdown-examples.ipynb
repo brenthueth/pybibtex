{
 "cells": [
  {
   "cell_type": "markdown",
   "metadata": {},
   "source": [
    "`pybibtex` -- Utility functions for parsing BibTex files and creating citation reference lists\n",
    "\n",
    "- Author: Sebastian Raschka <mail@sebastianraschka.com>\n",
    "- License: [MIT](https://github.com/rasbt/pybibtex/blob/master/LICENSE)\n",
    "- Code Repository: https://github.com/rasbt/pybibtex"
   ]
  },
  {
   "cell_type": "markdown",
   "metadata": {},
   "source": [
    "# pybibtex -- Python Markdown Parser Examples"
   ]
  },
  {
   "cell_type": "markdown",
   "metadata": {},
   "source": [
    "The `pybibtex` package is a simple parsing utility to build citation reference lists for markdown files \n",
    "or other plaintext documents. For example, consider the following example file ([article_1.md](article_1.md)):"
   ]
  },
  {
   "cell_type": "code",
   "execution_count": 1,
   "metadata": {},
   "outputs": [
    {
     "name": "stdout",
     "output_type": "stream",
     "text": [
      "# This is an example article\n",
      "\n",
      "It uses LaTeX cite-keys -- for example \\cite{Stone1974} -- that are then later replaced by cite indices.\n",
      "\n",
      "Another citation is inserted here \\cite{Sampson2016}.\n",
      "\n",
      "Multiple citations in a cite command are currently not supported and may produce undesired results. Use separate citation commands like \\cite{Sampson2016}\\cite{Salzberg1997}\\cite{Cawley2010} instead.\n",
      "\n"
     ]
    }
   ],
   "source": [
    "with open('article_1.md') as f:\n",
    "    text = f.read()\n",
    "    \n",
    "print(text)"
   ]
  },
  {
   "cell_type": "markdown",
   "metadata": {},
   "source": [
    "The citation commands can then be replaced as shown in the following code snippet:"
   ]
  },
  {
   "cell_type": "code",
   "execution_count": 2,
   "metadata": {},
   "outputs": [
    {
     "name": "stdout",
     "output_type": "stream",
     "text": [
      "# This is an example article\n",
      "\n",
      "It uses LaTeX cite-keys -- for example [1] -- that are then later replaced by cite indices.\n",
      "\n",
      "Another citation is inserted here [2].\n",
      "\n",
      "Multiple citations in a cite command are currently not supported and may produce undesired results. Use separate citation commands like [2][4][5] instead.\n",
      "\n"
     ]
    }
   ],
   "source": [
    "from pybibtex import build_citekey_dict\n",
    "from pybibtex import replace_citekeys\n",
    "\n",
    "\n",
    "text_splt = text.split('\\n')\n",
    "citekey_dict = build_citekey_dict(text_splt)\n",
    "\n",
    "new_text = '\\n'.join(line for line in replace_citekeys(text_splt, citekey_dict))\n",
    "print(new_text)"
   ]
  },
  {
   "cell_type": "markdown",
   "metadata": {},
   "source": [
    "The following code snippet reuses the citekey_dict to produce a reference lists of citations based on an existing BibText file ([bibfile_1.bib](bibfile_1.bib))."
   ]
  },
  {
   "cell_type": "code",
   "execution_count": 3,
   "metadata": {},
   "outputs": [
    {
     "name": "stdout",
     "output_type": "stream",
     "text": [
      "# References\n",
      "\n",
      "- [1]: Stone, M (1974). *Cross-Validatory Choice and Assessment of Statistical Predictions*. Journal of the Royal Statistical Society, 36(2), 111-147.\n",
      "- [2]: Sampson, Adrian (2016). *Statistical Mistakes and How to Avoid Them*.\n",
      "- [4]: Salzberg, Steven (1997). *On Comparing Classifiers : Pitfalls to Avoid and a Recommended Approach*. Data Mining and Knowledge Discovery, 328.\n",
      "- [5]: Cawley, Gavin C. and Talbot, Nicola L. C. (2010). *On Over-fitting in Model Selection and Subsequent Selection Bias in Performance Evaluation*. Journal of Machine Learning Research, 11.\n"
     ]
    }
   ],
   "source": [
    "from pybibtex import parse_bibfile\n",
    "from pybibtex import bibentry_to_style\n",
    "\n",
    "\n",
    "bib_dict = parse_bibfile(bib_path='bibfile_1.bib')\n",
    "\n",
    "print('# References\\n')\n",
    "for citekey in citekey_dict:\n",
    "    styled = bibentry_to_style(bib_dict[citekey], style='default')\n",
    "    print('- %s: %s' % (citekey_dict[citekey], styled))"
   ]
  }
 ],
 "metadata": {
  "kernelspec": {
   "display_name": "Python 3",
   "language": "python",
   "name": "python3"
  },
  "language_info": {
   "codemirror_mode": {
    "name": "ipython",
    "version": 3
   },
   "file_extension": ".py",
   "mimetype": "text/x-python",
   "name": "python",
   "nbconvert_exporter": "python",
   "pygments_lexer": "ipython3",
   "version": "3.6.0"
  }
 },
 "nbformat": 4,
 "nbformat_minor": 2
}
